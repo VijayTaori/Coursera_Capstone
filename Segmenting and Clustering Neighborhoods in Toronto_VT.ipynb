{
 "cells": [
  {
   "cell_type": "markdown",
   "metadata": {},
   "source": [
    "## Segmenting and Clustering Neighborhoods in Toronto"
   ]
  },
  {
   "cell_type": "code",
   "execution_count": 1,
   "metadata": {},
   "outputs": [
    {
     "name": "stdout",
     "output_type": "stream",
     "text": [
      "<Response [200]>\n"
     ]
    }
   ],
   "source": [
    "import requests\n",
    "post_codes_canada = requests.get('https://en.wikipedia.org/wiki/List_of_postal_codes_of_Canada:_M')\n",
    "print(post_codes_canada) # Response [200] means we successfully got response from the website for our request"
   ]
  },
  {
   "cell_type": "code",
   "execution_count": 2,
   "metadata": {
    "scrolled": true
   },
   "outputs": [
    {
     "name": "stdout",
     "output_type": "stream",
     "text": [
      "\n",
      "<!DOCTYPE html>\n",
      "<html class=\"client-nojs\" lang=\"en\" dir=\"ltr\">\n",
      "<head>\n",
      "<meta charset=\"UTF-8\"/>\n",
      "<title>List of postal codes of Canada: M - Wikipedia</title>\n",
      "<script>document.documentElement.className=\"client-js\";RLCONF={\"wgBreakFrames\":!1,\"wgSeparatorTransformTable\":[\"\",\"\"],\"wgDigitTransformTable\":[\"\",\"\"],\"wgDefaultDateFormat\":\"dmy\",\"wgMonthNames\":[\"\",\"January\",\"February\",\"March\",\"April\",\"May\",\"June\",\"July\",\"August\",\"September\",\"October\",\"November\",\"December\"],\"wgRequestId\":\"528632b9-cea7-47f1-b2\n"
     ]
    }
   ],
   "source": [
    "# Lets print the first 500 characters of the HTML\n",
    "print(post_codes_canada.text[0:500])"
   ]
  },
  {
   "cell_type": "markdown",
   "metadata": {},
   "source": [
    "#### We need to process this using BeautifulSoup\n",
    "* This is a dynamic process\n",
    "\n",
    "* It needs to be monitored in each step so we get what we require"
   ]
  },
  {
   "cell_type": "code",
   "execution_count": 3,
   "metadata": {},
   "outputs": [],
   "source": [
    "from bs4 import BeautifulSoup"
   ]
  },
  {
   "cell_type": "code",
   "execution_count": 4,
   "metadata": {},
   "outputs": [],
   "source": [
    "soup_post_codes_canada = BeautifulSoup(post_codes_canada.text, 'lxml')"
   ]
  },
  {
   "cell_type": "markdown",
   "metadata": {},
   "source": [
    "#### This is the time that we need to visit website and check what we need so we can find that in the SOUP\n",
    "* If you are using chrome as your browser then right click and select 'View page source'\n",
    "* ctl F and find Postal Code in the tbody\n",
    "* We do not need to scrape 'Postal Code', 'Borough', 'Neighborhood' but contents in these columns"
   ]
  },
  {
   "cell_type": "code",
   "execution_count": 13,
   "metadata": {
    "scrolled": false
   },
   "outputs": [
    {
     "data": {
      "text/plain": [
       "<tr>\n",
       "<th>Postal Code\n",
       "</th>\n",
       "<th>Borough\n",
       "</th>\n",
       "<th>Neighborhood\n",
       "</th></tr>"
      ]
     },
     "execution_count": 13,
     "metadata": {},
     "output_type": "execute_result"
    }
   ],
   "source": [
    "# First element that we need is 'M1A', ctl F the same on source page\n",
    "# tag 1 (closest to 'M1A') is <td>\n",
    "# tag 2 is <tr>\n",
    "# tag 3 is <tbody>\n",
    "# Let's find this in the soup\n",
    "# but it is better to hashtag the below code it after reviewing\n",
    "\n",
    "# soup_post_codes_canada.find('tbody') \n",
    "\n",
    "# next we need to find <tr> \n",
    "soup_post_codes_canada.find('tbody').find('tr')\n",
    "# THis gives first tr tag in <tbody> tag \n",
    "# It turn out we don't need this"
   ]
  },
  {
   "cell_type": "code",
   "execution_count": 32,
   "metadata": {
    "scrolled": false
   },
   "outputs": [
    {
     "data": {
      "text/plain": [
       "[<tr>\n",
       " <th>Postal Code\n",
       " </th>\n",
       " <th>Borough\n",
       " </th>\n",
       " <th>Neighborhood\n",
       " </th></tr>,\n",
       " <tr>\n",
       " <td>M1A\n",
       " </td>\n",
       " <td>Not assigned\n",
       " </td>\n",
       " <td>Not assigned\n",
       " </td></tr>,\n",
       " <tr>\n",
       " <td>M2A\n",
       " </td>\n",
       " <td>Not assigned\n",
       " </td>\n",
       " <td>Not assigned\n",
       " </td></tr>]"
      ]
     },
     "execution_count": 32,
     "metadata": {},
     "output_type": "execute_result"
    }
   ],
   "source": [
    "# Let's check out all the <tr> tags in <tbody>\n",
    "# As the results are big we only get first three results\n",
    "soup_post_codes_canada.find('tbody').find_all('tr')[:3]\n",
    "# we need the second <tr> tag onwards"
   ]
  },
  {
   "cell_type": "code",
   "execution_count": 15,
   "metadata": {},
   "outputs": [
    {
     "data": {
      "text/plain": [
       "<tr>\n",
       "<td>M1A\n",
       "</td>\n",
       "<td>Not assigned\n",
       "</td>\n",
       "<td>Not assigned\n",
       "</td></tr>"
      ]
     },
     "execution_count": 15,
     "metadata": {},
     "output_type": "execute_result"
    }
   ],
   "source": [
    "soup_post_codes_canada.find('tbody').find_all('tr')[1] # items in second <tr> tag"
   ]
  },
  {
   "cell_type": "code",
   "execution_count": 16,
   "metadata": {},
   "outputs": [
    {
     "data": {
      "text/plain": [
       "[<td>M1A\n",
       " </td>,\n",
       " <td>Not assigned\n",
       " </td>,\n",
       " <td>Not assigned\n",
       " </td>]"
      ]
     },
     "execution_count": 16,
     "metadata": {},
     "output_type": "execute_result"
    }
   ],
   "source": [
    "# Similarly if we add .find('td') on top of this\n",
    "# then it will return the first value of <tr>\n",
    "soup_post_codes_canada.find('tbody').find_all('tr')[1].find_all('td')"
   ]
  },
  {
   "cell_type": "code",
   "execution_count": 28,
   "metadata": {},
   "outputs": [
    {
     "name": "stdout",
     "output_type": "stream",
     "text": [
      "<td>M1A\n",
      "</td>\n"
     ]
    }
   ],
   "source": [
    "# To get the text from each <td> tag we have to use the following command\n",
    "print(soup_post_codes_canada.find('tbody').find_all('tr')[1].find_all('td')[0])#.text[0:-1]\n"
   ]
  },
  {
   "cell_type": "code",
   "execution_count": 29,
   "metadata": {
    "scrolled": true
   },
   "outputs": [
    {
     "data": {
      "text/plain": [
       "'M1A\\n'"
      ]
     },
     "execution_count": 29,
     "metadata": {},
     "output_type": "execute_result"
    }
   ],
   "source": [
    "soup_post_codes_canada.find('tbody').find_all('tr')[1].find_all('td')[0].text"
   ]
  },
  {
   "cell_type": "code",
   "execution_count": 30,
   "metadata": {},
   "outputs": [
    {
     "data": {
      "text/plain": [
       "'M1A'"
      ]
     },
     "execution_count": 30,
     "metadata": {},
     "output_type": "execute_result"
    }
   ],
   "source": [
    "soup_post_codes_canada.find('tbody').find_all('tr')[1].find_all('td')[0].text[0:-1]"
   ]
  },
  {
   "cell_type": "code",
   "execution_count": 33,
   "metadata": {},
   "outputs": [
    {
     "name": "stdout",
     "output_type": "stream",
     "text": [
      "M1A\n",
      "Not assigned\n",
      "Not assigned\n"
     ]
    }
   ],
   "source": [
    "# Let's check the first row elements and confirm from the website \n",
    "# Website is: 'https://en.wikipedia.org/wiki/List_of_postal_codes_of_Canada:_M'\n",
    "print(soup_post_codes_canada.find('tbody').find_all('tr')[1].find_all('td')[0].text[0:-1])\n",
    "print(soup_post_codes_canada.find('tbody').find_all('tr')[1].find_all('td')[1].text[0:-1])\n",
    "print(soup_post_codes_canada.find('tbody').find_all('tr')[1].find_all('td')[2].text[0:-1])"
   ]
  },
  {
   "cell_type": "code",
   "execution_count": 47,
   "metadata": {},
   "outputs": [
    {
     "name": "stdout",
     "output_type": "stream",
     "text": [
      "181\n",
      "*******\n",
      "First row is: <tr>\n",
      "<td>M1A\n",
      "</td>\n",
      "<td>Not assigned\n",
      "</td>\n",
      "<td>Not assigned\n",
      "</td></tr>\n",
      "*******\n",
      "Last row is: <tr>\n",
      "<td>M9Z\n",
      "</td>\n",
      "<td>Not assigned\n",
      "</td>\n",
      "<td>Not assigned\n",
      "</td></tr>\n"
     ]
    }
   ],
   "source": [
    "# Let's check the last row elements and confirm from the website\n",
    "# for last element we could sure use -1 as the element but it is also useful to find how many elements are there\n",
    "print(len(soup_post_codes_canada.find('tbody').find_all('tr')))\n",
    "print('*******')\n",
    "# We know we do not need the first row (or 0th row)\n",
    "print('First row is:',soup_post_codes_canada.find('tbody').find_all('tr')[1])\n",
    "print('*******')\n",
    "print('Last row is:',soup_post_codes_canada.find('tbody').find_all('tr')[180])"
   ]
  },
  {
   "cell_type": "code",
   "execution_count": 36,
   "metadata": {
    "scrolled": true
   },
   "outputs": [
    {
     "name": "stdout",
     "output_type": "stream",
     "text": [
      "M9Z\n",
      "Not assigned\n",
      "Not assigned\n"
     ]
    }
   ],
   "source": [
    "print(soup_post_codes_canada.find('tbody').find_all('tr')[180].find_all('td')[0].text[0:-1])\n",
    "print(soup_post_codes_canada.find('tbody').find_all('tr')[180].find_all('td')[1].text[0:-1])\n",
    "print(soup_post_codes_canada.find('tbody').find_all('tr')[180].find_all('td')[2].text[0:-1])"
   ]
  },
  {
   "cell_type": "code",
   "execution_count": 37,
   "metadata": {},
   "outputs": [],
   "source": [
    "import pandas as pd\n",
    "import numpy as np"
   ]
  },
  {
   "cell_type": "code",
   "execution_count": 50,
   "metadata": {},
   "outputs": [],
   "source": [
    "result = soup_post_codes_canada.find('tbody').find_all('tr')[1:]"
   ]
  },
  {
   "cell_type": "code",
   "execution_count": 75,
   "metadata": {},
   "outputs": [],
   "source": [
    "# Here we will collect all the items needed and ignore all the results with Borough = 'Not assigned'\n",
    "# Also we will change the value of Neighborhood = value of Borough for valid Borough but Neighborhood= 'Not assigned'\n",
    "all_records_postcode = []\n",
    "for result in all_records:\n",
    "    if result.find_all('td')[1].text[0:-1] != 'Not assigned':\n",
    "        postalcode = result.find_all('td')[0].text[0:-1]\n",
    "        borough = result.find_all('td')[1].text[0:-1]\n",
    "        if result.find_all('td')[2].text[0:-1] == 'Not assigned':\n",
    "            neighborhood = borough\n",
    "        else:\n",
    "            neighborhood = result.find_all('td')[2].text[0:-1]\n",
    "        all_records_postcode.append((postalcode,borough,neighborhood))"
   ]
  },
  {
   "cell_type": "code",
   "execution_count": 76,
   "metadata": {},
   "outputs": [
    {
     "data": {
      "text/plain": [
       "[('M3A', 'North York', 'Parkwoods'),\n",
       " ('M4A', 'North York', 'Victoria Village'),\n",
       " ('M5A', 'Downtown Toronto', 'Regent Park, Harbourfront'),\n",
       " ('M6A', 'North York', 'Lawrence Manor, Lawrence Heights'),\n",
       " ('M7A', 'Downtown Toronto', \"Queen's Park, Ontario Provincial Government\")]"
      ]
     },
     "execution_count": 76,
     "metadata": {},
     "output_type": "execute_result"
    }
   ],
   "source": [
    "# Check first five and last five elements and confirm with the website\n",
    "all_records_postcode[:5]"
   ]
  },
  {
   "cell_type": "code",
   "execution_count": 72,
   "metadata": {
    "scrolled": true
   },
   "outputs": [
    {
     "data": {
      "text/plain": [
       "[('M8X', 'Etobicoke', 'The Kingsway, Montgomery Road, Old Mill North'),\n",
       " ('M4Y', 'Downtown Toronto', 'Church and Wellesley'),\n",
       " ('M7Y',\n",
       "  'East Toronto',\n",
       "  'Business reply mail Processing Centre, South Central Letter Processing Plant Toronto'),\n",
       " ('M8Y',\n",
       "  'Etobicoke',\n",
       "  \"Old Mill South, King's Mill Park, Sunnylea, Humber Bay, Mimico NE, The Queensway East, Royal York South East, Kingsway Park South East\"),\n",
       " ('M8Z',\n",
       "  'Etobicoke',\n",
       "  'Mimico NW, The Queensway West, South of Bloor, Kingsway Park South West, Royal York South West')]"
      ]
     },
     "execution_count": 72,
     "metadata": {},
     "output_type": "execute_result"
    }
   ],
   "source": [
    "all_records_postcode[-5:]"
   ]
  },
  {
   "cell_type": "code",
   "execution_count": 77,
   "metadata": {},
   "outputs": [],
   "source": [
    "# Let's build a dataframe out of this\n",
    "df_postcode = pd.DataFrame(all_records_postcode, columns=['PostalCode', 'Borough', 'Neighborhood'])"
   ]
  },
  {
   "cell_type": "code",
   "execution_count": 78,
   "metadata": {
    "scrolled": true
   },
   "outputs": [
    {
     "data": {
      "text/html": [
       "<div>\n",
       "<style scoped>\n",
       "    .dataframe tbody tr th:only-of-type {\n",
       "        vertical-align: middle;\n",
       "    }\n",
       "\n",
       "    .dataframe tbody tr th {\n",
       "        vertical-align: top;\n",
       "    }\n",
       "\n",
       "    .dataframe thead th {\n",
       "        text-align: right;\n",
       "    }\n",
       "</style>\n",
       "<table border=\"1\" class=\"dataframe\">\n",
       "  <thead>\n",
       "    <tr style=\"text-align: right;\">\n",
       "      <th></th>\n",
       "      <th>PostalCode</th>\n",
       "      <th>Borough</th>\n",
       "      <th>Neighborhood</th>\n",
       "    </tr>\n",
       "  </thead>\n",
       "  <tbody>\n",
       "    <tr>\n",
       "      <th>0</th>\n",
       "      <td>M3A</td>\n",
       "      <td>North York</td>\n",
       "      <td>Parkwoods</td>\n",
       "    </tr>\n",
       "    <tr>\n",
       "      <th>1</th>\n",
       "      <td>M4A</td>\n",
       "      <td>North York</td>\n",
       "      <td>Victoria Village</td>\n",
       "    </tr>\n",
       "    <tr>\n",
       "      <th>2</th>\n",
       "      <td>M5A</td>\n",
       "      <td>Downtown Toronto</td>\n",
       "      <td>Regent Park, Harbourfront</td>\n",
       "    </tr>\n",
       "    <tr>\n",
       "      <th>3</th>\n",
       "      <td>M6A</td>\n",
       "      <td>North York</td>\n",
       "      <td>Lawrence Manor, Lawrence Heights</td>\n",
       "    </tr>\n",
       "    <tr>\n",
       "      <th>4</th>\n",
       "      <td>M7A</td>\n",
       "      <td>Downtown Toronto</td>\n",
       "      <td>Queen's Park, Ontario Provincial Government</td>\n",
       "    </tr>\n",
       "    <tr>\n",
       "      <th>5</th>\n",
       "      <td>M9A</td>\n",
       "      <td>Etobicoke</td>\n",
       "      <td>Islington Avenue, Humber Valley Village</td>\n",
       "    </tr>\n",
       "    <tr>\n",
       "      <th>6</th>\n",
       "      <td>M1B</td>\n",
       "      <td>Scarborough</td>\n",
       "      <td>Malvern, Rouge</td>\n",
       "    </tr>\n",
       "    <tr>\n",
       "      <th>7</th>\n",
       "      <td>M3B</td>\n",
       "      <td>North York</td>\n",
       "      <td>Don Mills</td>\n",
       "    </tr>\n",
       "    <tr>\n",
       "      <th>8</th>\n",
       "      <td>M4B</td>\n",
       "      <td>East York</td>\n",
       "      <td>Parkview Hill, Woodbine Gardens</td>\n",
       "    </tr>\n",
       "    <tr>\n",
       "      <th>9</th>\n",
       "      <td>M5B</td>\n",
       "      <td>Downtown Toronto</td>\n",
       "      <td>Garden District, Ryerson</td>\n",
       "    </tr>\n",
       "    <tr>\n",
       "      <th>10</th>\n",
       "      <td>M6B</td>\n",
       "      <td>North York</td>\n",
       "      <td>Glencairn</td>\n",
       "    </tr>\n",
       "    <tr>\n",
       "      <th>11</th>\n",
       "      <td>M9B</td>\n",
       "      <td>Etobicoke</td>\n",
       "      <td>West Deane Park, Princess Gardens, Martin Grov...</td>\n",
       "    </tr>\n",
       "  </tbody>\n",
       "</table>\n",
       "</div>"
      ],
      "text/plain": [
       "   PostalCode           Borough  \\\n",
       "0         M3A        North York   \n",
       "1         M4A        North York   \n",
       "2         M5A  Downtown Toronto   \n",
       "3         M6A        North York   \n",
       "4         M7A  Downtown Toronto   \n",
       "5         M9A         Etobicoke   \n",
       "6         M1B       Scarborough   \n",
       "7         M3B        North York   \n",
       "8         M4B         East York   \n",
       "9         M5B  Downtown Toronto   \n",
       "10        M6B        North York   \n",
       "11        M9B         Etobicoke   \n",
       "\n",
       "                                         Neighborhood  \n",
       "0                                           Parkwoods  \n",
       "1                                    Victoria Village  \n",
       "2                           Regent Park, Harbourfront  \n",
       "3                    Lawrence Manor, Lawrence Heights  \n",
       "4         Queen's Park, Ontario Provincial Government  \n",
       "5             Islington Avenue, Humber Valley Village  \n",
       "6                                      Malvern, Rouge  \n",
       "7                                           Don Mills  \n",
       "8                     Parkview Hill, Woodbine Gardens  \n",
       "9                            Garden District, Ryerson  \n",
       "10                                          Glencairn  \n",
       "11  West Deane Park, Princess Gardens, Martin Grov...  "
      ]
     },
     "execution_count": 78,
     "metadata": {},
     "output_type": "execute_result"
    }
   ],
   "source": [
    "df_postcode.head(12)"
   ]
  },
  {
   "cell_type": "code",
   "execution_count": 79,
   "metadata": {},
   "outputs": [
    {
     "data": {
      "text/plain": [
       "(103, 3)"
      ]
     },
     "execution_count": 79,
     "metadata": {},
     "output_type": "execute_result"
    }
   ],
   "source": [
    "df_postcode.shape"
   ]
  }
 ],
 "metadata": {
  "kernelspec": {
   "display_name": "Python 3",
   "language": "python",
   "name": "python3"
  },
  "language_info": {
   "codemirror_mode": {
    "name": "ipython",
    "version": 3
   },
   "file_extension": ".py",
   "mimetype": "text/x-python",
   "name": "python",
   "nbconvert_exporter": "python",
   "pygments_lexer": "ipython3",
   "version": "3.7.3"
  }
 },
 "nbformat": 4,
 "nbformat_minor": 2
}
